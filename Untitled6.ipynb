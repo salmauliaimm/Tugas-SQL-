{
  "nbformat": 4,
  "nbformat_minor": 0,
  "metadata": {
    "colab": {
      "provenance": []
    },
    "kernelspec": {
      "name": "python3",
      "display_name": "Python 3"
    },
    "language_info": {
      "name": "python"
    }
  },
  "cells": [
    {
      "cell_type": "code",
      "execution_count": 1,
      "metadata": {
        "colab": {
          "base_uri": "https://localhost:8080/"
        },
        "id": "fyiyxwgvfq00",
        "outputId": "6498b5d9-4200-4a5d-84f9-0ef5273e0900"
      },
      "outputs": [
        {
          "output_type": "stream",
          "name": "stdout",
          "text": [
            "belajar Phyton menyenangkan\n",
            "hello dunia\n"
          ]
        }
      ],
      "source": [
        "print (\"belajar Phyton menyenangkan\")\n",
        "print(\"hello dunia\")"
      ]
    },
    {
      "cell_type": "markdown",
      "source": [
        "STRUKTUR PROGRAM PADA **PYTHON**"
      ],
      "metadata": {
        "id": "hq2N9k8qiFpa"
      }
    },
    {
      "cell_type": "markdown",
      "source": [
        "1. Statement"
      ],
      "metadata": {
        "id": "rFFT0VfgiMrJ"
      }
    },
    {
      "cell_type": "code",
      "source": [
        "print (\"belajar Phyton menyenangkan\")\n",
        "print(\"hello dunia\")"
      ],
      "metadata": {
        "colab": {
          "base_uri": "https://localhost:8080/"
        },
        "id": "fZvyB3PdicXX",
        "outputId": "608914ba-30cf-4bf8-c436-59a80051c82d"
      },
      "execution_count": 3,
      "outputs": [
        {
          "output_type": "stream",
          "name": "stdout",
          "text": [
            "belajar Phyton menyenangkan\n",
            "hello dunia\n"
          ]
        }
      ]
    },
    {
      "cell_type": "markdown",
      "source": [
        "2. Variabel"
      ],
      "metadata": {
        "id": "iOOo3deQijN3"
      }
    },
    {
      "cell_type": "code",
      "source": [
        "bilangan1 = 5\n",
        "bilangan2 = 10\n",
        "kalimat = \"pejuang data 3\""
      ],
      "metadata": {
        "id": "tYZTKAxZgDz8"
      },
      "execution_count": 2,
      "outputs": []
    },
    {
      "cell_type": "markdown",
      "source": [
        "3. Operator"
      ],
      "metadata": {
        "id": "HQoc3DjpimLY"
      }
    },
    {
      "cell_type": "code",
      "source": [
        "bilangan1 + bilangan2"
      ],
      "metadata": {
        "colab": {
          "base_uri": "https://localhost:8080/"
        },
        "id": "2lRqhqyWipHI",
        "outputId": "1ac2aeee-10cd-4055-be14-2471716ba154"
      },
      "execution_count": 4,
      "outputs": [
        {
          "output_type": "execute_result",
          "data": {
            "text/plain": [
              "15"
            ]
          },
          "metadata": {},
          "execution_count": 4
        }
      ]
    },
    {
      "cell_type": "markdown",
      "source": [
        "4. Comments"
      ],
      "metadata": {
        "id": "pDexQvyTitza"
      }
    },
    {
      "cell_type": "markdown",
      "source": [
        "a. single line comment"
      ],
      "metadata": {
        "id": "8Wi8xnOji3Jp"
      }
    },
    {
      "cell_type": "code",
      "source": [
        "#ini adalah comment\n",
        "print(\"belajar python\")\n"
      ],
      "metadata": {
        "colab": {
          "base_uri": "https://localhost:8080/"
        },
        "id": "cBa_Kdi6iwtC",
        "outputId": "276ffe16-262d-475f-90fd-dd608bc1d907"
      },
      "execution_count": 5,
      "outputs": [
        {
          "output_type": "stream",
          "name": "stdout",
          "text": [
            "belajar python\n"
          ]
        }
      ]
    },
    {
      "cell_type": "markdown",
      "source": [
        "b. multi line comment"
      ],
      "metadata": {
        "id": "Tc-xCokhjA1h"
      }
    },
    {
      "cell_type": "code",
      "source": [
        "'''\n",
        "Ini adalah komentar panjang\n",
        "Bisa digunakan untuk memebrikan penjelasan\n",
        "Panjang dokumentasi program, spesifikasi\n",
        "input output atau lainnya\n",
        "'''\n",
        "\n",
        "print(\"Beljar Python menyenangkan\")"
      ],
      "metadata": {
        "colab": {
          "base_uri": "https://localhost:8080/"
        },
        "id": "BBTCbtmujD-i",
        "outputId": "59e3219f-fb56-4d00-803f-997aeba379b3"
      },
      "execution_count": 6,
      "outputs": [
        {
          "output_type": "stream",
          "name": "stdout",
          "text": [
            "Beljar Python menyenangkan\n"
          ]
        }
      ]
    }
  ]
}